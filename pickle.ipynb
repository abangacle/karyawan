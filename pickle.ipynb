{
 "cells": [
  {
   "cell_type": "code",
   "execution_count": 10,
   "metadata": {},
   "outputs": [
    {
     "name": "stdout",
     "output_type": "stream",
     "text": [
      "Akurasi Model: 0.8977272727272727\n",
      "Model telah disimpan ke dalam decision_tree_model.pickle\n"
     ]
    },
    {
     "name": "stderr",
     "output_type": "stream",
     "text": [
      "C:\\Users\\WAYCOM\\AppData\\Local\\Temp\\ipykernel_22028\\1275834972.py:10: FutureWarning: The default value of numeric_only in DataFrame.mean is deprecated. In a future version, it will default to False. In addition, specifying 'numeric_only=None' is deprecated. Select only valid columns or specify the value of numeric_only to silence this warning.\n",
      "  data.fillna(data.mean(), inplace=True)\n",
      "c:\\Python311\\Lib\\site-packages\\sklearn\\tree\\_classes.py:269: FutureWarning: `max_features='auto'` has been deprecated in 1.1 and will be removed in 1.3. To keep the past behaviour, explicitly set `max_features='sqrt'`.\n",
      "  warnings.warn(\n"
     ]
    }
   ],
   "source": [
    "import pandas as pd\n",
    "from sklearn.model_selection import train_test_split\n",
    "from sklearn.tree import DecisionTreeClassifier\n",
    "import pickle\n",
    "\n",
    "# Membaca data dari CSV\n",
    "data = pd.read_csv(\"jnt.csv\", sep=';')\n",
    "\n",
    "# Penanganan nilai NaN (misalnya, mengisi dengan rata-rata)\n",
    "data.fillna(data.mean(), inplace=True)\n",
    "\n",
    "# Pemilihan fitur\n",
    "fitur = ['absen', 'total_paket', 'cod_tepat_waktu', 'paket_gagal_diantar', 'paket_dnr']\n",
    "X = data[fitur]\n",
    "y = data['Predikat_Karyawan']\n",
    "\n",
    "# Pemisahan data menjadi data pelatihan dan data uji\n",
    "X_train, X_test, y_train, y_test = train_test_split(X, y, test_size=0.2, random_state=42)\n",
    "\n",
    "# Membangun model Decision Tree C5.0\n",
    "model = DecisionTreeClassifier(max_features='auto')\n",
    "model.fit(X_train, y_train)\n",
    "\n",
    "# Evaluasi kinerja model\n",
    "akurasi = model.score(X_test, y_test)\n",
    "print(f'Akurasi Model: {akurasi}')\n",
    "\n",
    "# Simpan model ke dalam file pickle\n",
    "with open('decision_tree_model.pickle', 'wb') as file:\n",
    "    pickle.dump(model, file)\n",
    "\n",
    "print(\"Model telah disimpan ke dalam decision_tree_model.pickle\")"
   ]
  }
 ],
 "metadata": {
  "kernelspec": {
   "display_name": "Python 3",
   "language": "python",
   "name": "python3"
  },
  "language_info": {
   "codemirror_mode": {
    "name": "ipython",
    "version": 3
   },
   "file_extension": ".py",
   "mimetype": "text/x-python",
   "name": "python",
   "nbconvert_exporter": "python",
   "pygments_lexer": "ipython3",
   "version": "3.11.1"
  }
 },
 "nbformat": 4,
 "nbformat_minor": 2
}
